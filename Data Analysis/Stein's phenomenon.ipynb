{
 "cells": [
  {
   "cell_type": "markdown",
   "metadata": {},
   "source": [
    "## Stein's Phenomenon\n",
    "\n",
    "Stein (1956) found that if the dimension of data $p>=3$, then the MLE estimator $\\hat{\\mu_n}$ is inadmissible. This property is known as **_Stein's phenomenon_**.\n",
    "\n",
    "We start with definition of inadmissible estimators.\n",
    "\n",
    "&emsp;&emsp;**DEFINITION** (Inadmissible)\n",
    "\n",
    "> An estimator $\\hat{\\mu_n}$ of the parameter $\\mu$ is called **_inadmissible_** on $R^p$ with respect to the squared risk if there exists another estimator $\\mu_n^*$ such that\n",
    "$$E||\\mu_n^*-\\mu ||^2\\leq E||\\hat{\\mu}_n-\\mu||^2\\quad\\quad \\textit{for all }\\mu\\in R^p,$$\n",
    "and there exists $\\mu_0\\in R^p$ such that\n",
    "$$E||\\mu_n^*-\\mu_0 ||^2 < E||\\hat{\\mu}_n-\\mu_0||^2.$$\n",
    "\n",
    "&emsp;&emsp;In this case, we also call that $\\mu_n^*$ dominates $\\hat{\\mu}_n$ . Otherwise, the estimator $\\hat{\\mu_n}$ is called admissible. An estimator is admissible if it is not systematically outperformed, i.e. if there does not exist another estimator which displays less error for all the underlying unknown parameters.\n",
    "\n",
    "According to the difinition, Stein's phenomenon can be desribed like:\n",
    "\n",
    "&emsp;&emsp;For $p>=3$, there exists $\\hat{\\mu}$ such that $\\forall\\mu$,\n",
    "$$E||\\hat{\\mu}_n-\\mu ||^2 < E||\\hat{\\mu}^{MLE}_n-\\mu_0||^2,$$\n",
    "which makes MLE inadmissible.\n",
    "\n",
    "A typical choice is the James-Stein estimator given by James-Stein (1961) for Gaussian distribution. To state formally,\n",
    "\n",
    "&emsp;&emsp;**THEOREM**\n",
    "\n",
    "> Suppose there is only one single observation $Y\\thicksim N_p(\\mu,I_p)$ (we want to estimate $\\mu$). Then $\\hat{\\mu}^{MLE}=Y$. \n",
    "> Define\n",
    "$$\\hat{\\mu}^{JS}_n=(1-\\frac{(p-2)}{||Y||^2})Y,$$\n",
    "> then\n",
    "$$E_{\\mu}||\\hat{\\mu}^{JS}-\\mu||^2<E_{\\mu}||Y-\\mu||^2=E_{\\mu}||\\hat{\\mu}^{MLE}-\\mu||^2.$$\n",
    "\n",
    "Here, we use Monte Carlo simulation to verify this.\n",
    "\n",
    "For simplicity, we assume $\\mu=e_1$, where $e_1$ is the basis vector in which only the first element is 1. Define the following function which takes dimension $p$ and number of simulation `nsim` as inputs to calculate the Monte Carlo simulation results of James Stein estimator."
   ]
  },
  {
   "cell_type": "code",
   "execution_count": 2,
   "metadata": {
    "collapsed": true
   },
   "outputs": [],
   "source": [
    "import numpy as np"
   ]
  },
  {
   "cell_type": "markdown",
   "metadata": {},
   "source": [
    "We need a sample generator, and risk calculators for both MLE and JS."
   ]
  },
  {
   "cell_type": "code",
   "execution_count": 73,
   "metadata": {
    "collapsed": false
   },
   "outputs": [],
   "source": [
    "def sampleGenerator(p,nsim):\n",
    "    mean=np.append(1.0,np.zeros((1,p-1)))\n",
    "    cov=np.identity(p)\n",
    "    sample=np.random.multivariate_normal(mean, cov, nsim)\n",
    "    return sample\n",
    "    \n",
    "def MLE_Risk(p,sample):\n",
    "    # mle risk\n",
    "    mean=np.append(1.0,np.zeros((1,p-1)))\n",
    "    mle_err=sample-mean\n",
    "    risk_mle=np.linalg.norm(mle_err,axis=1)\n",
    "    risk_mle=np.mean(risk_mle)\n",
    "    # print 'Squared error loss for MLE:',risk_mle\n",
    "    return risk_mle\n",
    "    \n",
    "def JS_Risk(p,sample):    \n",
    "    # js risk\n",
    "    mean=np.append(1.0,np.zeros((1,p-1)))\n",
    "    shrnk_coef=1-(np.linalg.norm(sample,axis=1))**(-2)*(p-2)\n",
    "    shrnk_coef=np.diag(shrnk_coef)\n",
    "    js_est=np.mat(shrnk_coef)*np.mat(sample)\n",
    "    js_err=js_est-mean\n",
    "    risk_js=np.linalg.norm(js_err,axis=1)\n",
    "    risk_js=np.mean(risk_js)\n",
    "    # print 'Squared error loss for James-Stein estimator:',risk_js\n",
    "    return risk_js"
   ]
  },
  {
   "cell_type": "code",
   "execution_count": 85,
   "metadata": {
    "collapsed": false
   },
   "outputs": [
    {
     "data": {
      "text/plain": [
       "1.4322062312180477"
      ]
     },
     "execution_count": 85,
     "metadata": {},
     "output_type": "execute_result"
    }
   ],
   "source": [
    "p,nsim=2,10\n",
    "sample=sampleGenerator(p,nsim)\n",
    "MLE_Risk(p,sample)\n",
    "JS_Risk(p,sample)"
   ]
  },
  {
   "cell_type": "markdown",
   "metadata": {},
   "source": [
    "Now, we fix the number of simulation(e.g. `nsim=20`) and increase the dimension $p$ to compare the risks for MLE and JS."
   ]
  },
  {
   "cell_type": "code",
   "execution_count": 108,
   "metadata": {
    "collapsed": false
   },
   "outputs": [
    {
     "name": "stdout",
     "output_type": "stream",
     "text": [
      "[[ 0.          1.24417363  1.59263624  1.8507984   2.06720945  2.38123964\n",
      "   2.56800242  2.78321012  2.85542063  3.09504756  3.24655018  3.3360053\n",
      "   3.52322218  3.71175511  3.8445912   3.97473418  4.12491413  4.02929076\n",
      "   4.27932602  4.42839279  4.63145495  4.55346915  4.8361789   4.74761532\n",
      "   5.0100392   4.99544799  5.03381325  5.24160022  5.25921925  5.41363945]]\n",
      "[[ 0.          1.24417363  1.31267434  1.33884704  1.38707147  1.50279261\n",
      "   1.39432981  1.48313303  1.59128798  1.48701657  1.53265067  1.56584809\n",
      "   1.46794728  1.47596399  1.53553864  1.5652597   1.56977283  1.5346284\n",
      "   1.540338    1.47641266  1.53459501  1.46829193  1.5340931   1.62043251\n",
      "   1.53732205  1.45410789  1.50576905  1.58603634  1.5181236   1.48780534]]\n"
     ]
    },
    {
     "data": {
      "image/png": "[encoded data removed]",
      "text/plain": [
       "<matplotlib.figure.Figure at 0x1139757d0>"
      ]
     },
     "metadata": {},
     "output_type": "display_data"
    }
   ],
   "source": [
    "%matplotlib inline\n",
    "import matplotlib.pyplot as plt\n",
    "nsim=100\n",
    "pmax=30\n",
    "risk_mle=np.zeros([1, pmax])\n",
    "risk_js=np.zeros([1, pmax])\n",
    "for p in range(2,pmax+1,1):\n",
    "    sample=sampleGenerator(p,nsim)\n",
    "    risk_mle[0,p-1]=MLE_Risk(p,sample)\n",
    "    risk_js[0,p-1]=JS_Risk(p,sample)\n",
    "print risk_mle\n",
    "print risk_js\n",
    "plt.xlabel('dimension p')\n",
    "plt.ylabel('Squared error loss')\n",
    "plt.title('Comparison with fixed nsim and increasing dimension p')\n",
    "x_axis=np.array(range(1,pmax+1,1)).reshape(1,pmax)\n",
    "mle_plot=plt.plot(x_axis,risk_mle,'ro')\n",
    "js_plot=plt.plot(x_axis,risk_js,'bs')\n",
    "plt.show()"
   ]
  }
 ],
 "metadata": {
  "kernelspec": {
   "display_name": "Python 2",
   "language": "python",
   "name": "python2"
  },
  "language_info": {
   "codemirror_mode": {
    "name": "ipython",
    "version": 2
   },
   "file_extension": ".py",
   "mimetype": "text/x-python",
   "name": "python",
   "nbconvert_exporter": "python",
   "pygments_lexer": "ipython2",
   "version": "2.7.12"
  }
 },
 "nbformat": 4,
 "nbformat_minor": 0
}
