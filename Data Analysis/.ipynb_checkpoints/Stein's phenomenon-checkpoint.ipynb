{
 "cells": [
  {
   "cell_type": "markdown",
   "metadata": {},
   "source": [
    "## Stein's Phenomenon\n",
    "\n",
    "Stein (1956) found that if the dimension of data $p>=3$, then the MLE estimator $\\hat{\\mu_n}$ is inadmissible. This property is known as **_Stein's phenomenon_**.\n",
    "\n",
    "We start with definition of inadmissible estimators.\n",
    "\n",
    "&emsp;&emsp;**DEFINITION** (Inadmissible)\n",
    "\n",
    "> An estimator $\\hat{\\mu_n}$ of the parameter $\\mu$ is called **_inadmissible_** on $R^p$ with respect to the squared risk if there exists another estimator $\\mu_n^*$ such that\n",
    "$$E||\\mu_n^*-\\mu ||^2\\leq E||\\hat{\\mu}_n-\\mu||^2\\quad\\quad \\textit{for all }\\mu\\in R^p,$$\n",
    "and there exists $\\mu_0\\in R^p$ such that\n",
    "$$E||\\mu_n^*-\\mu_0 ||^2 < E||\\hat{\\mu}_n-\\mu_0||^2.$$\n",
    "\n",
    "&emsp;&emsp;In this case, we also call that $\\mu_n^*$ dominates $\\hat{\\mu}_n$ . Otherwise, the estimator $\\hat{\\mu_n}$ is\n",
    "called admissible.\n",
    "\n",
    "According to the difinition, Stein's phenomenon can be desribed like:\n",
    "\n",
    "&emsp;&emsp;For $p>=3$, there exists $\\hat{\\mu}$ such that $\\forall\\mu$,\n",
    "$$E||\\hat{\\mu}_n-\\mu ||^2 < E||\\hat{\\mu}^{MLE}_n-\\mu_0||^2.$$\n",
    "\n",
    "A typical choice is the James-Stein estimator given by James-Stein (1961),\n",
    "$$\\hat{\\mu}^{JS}_n=(1-\\frac{\\sigma^2 (p-2)}{||\\hat{\\mu}^{MLE}_n||})\\hat{\\mu}^{MLE}_n,$$\n"
   ]
  },
  {
   "cell_type": "code",
   "execution_count": null,
   "metadata": {
    "collapsed": true
   },
   "outputs": [],
   "source": []
  }
 ],
 "metadata": {
  "kernelspec": {
   "display_name": "Python 2",
   "language": "python",
   "name": "python2"
  },
  "language_info": {
   "codemirror_mode": {
    "name": "ipython",
    "version": 2
   },
   "file_extension": ".py",
   "mimetype": "text/x-python",
   "name": "python",
   "nbconvert_exporter": "python",
   "pygments_lexer": "ipython2",
   "version": "2.7.12"
  }
 },
 "nbformat": 4,
 "nbformat_minor": 0
}
